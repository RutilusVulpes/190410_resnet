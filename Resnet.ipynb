{
 "cells": [
  {
   "cell_type": "markdown",
   "metadata": {},
   "source": [
    "# Resnet\n",
    "\n",
    "## Please watch Ng C4W2L01-C4W2L04, the first of which is found [here](https://www.youtube.com/watch?v=-bvTzZCEOdM&list=PLkDaE6sCZn6Gl29AoE31iwdVwSG-KnDzF&index=12).\n",
    "\n",
    "The convolutional neural network that we developed and ran was adequate for use on a small problem with a few classes, but it lacks the explanatory power to produce highly accurate results for more difficult datasets.  Instead, more interesting neural networks have been developed which have greater explanatory power.  One of the most powerful architectures today is called ResNet, which is short for residual network.  \n",
    "\n",
    "In principle, you could take the network that you've been working on and make it more flexible by adding more convolutional layers, which is to say that we could add more sequences of feature map generation.  This is what is meant when people use the term \"deep\" learning.  However, if you did this, you would quickly run into the problem that your network would struggle to learn weights in the lower (closer to the inputs) layers of the network.  This is a result of the way that neural networks are trained.  In particular they rely on the ability to take the derivative of a misfit function (e.g. least squares) with respect to a parameter, and to adjust the weight based on that derivative.  However in (naive) deep networks, this gradient has the tendency to become negligibly small as the impact of that weight gets lost in the myriad layers of convolutions and activations closer to the output.  \n",
    "\n",
    "ResNet solves this problem by ensuring that the information in each weight gets propagated to the output.  It does this by simply adding the layer's input to each layer's output, so instead of \n",
    "$$\n",
    "\\mathbf{x}_{l+1} = \\mathcal{F}_{l}(\\mathbf{x}_l),\n",
    "$$\n",
    "at each layer, the neural network performs the operation\n",
    "$$\n",
    "\\mathbf{x}_{l+1} = \\mathcal{F}_{l}(\\mathbf{x}_l) + \\mathbf{x}_l.\n",
    "$$\n",
    "Rearranging this equation, we can see why this architecture is called a residual network:\n",
    "$$\n",
    "\\mathbf{x}_{l+1} - \\mathbf{x}_l = \\mathcal{F}_{l}(\\mathbf{x}_l).\n",
    "$$\n",
    "Each layer is modeling the residual between consecutive feature maps.  The pedantic amongst us will note that this only works when the output of $\\mathcal{F}_{l}(\\mathbf{x}_l)$ is the same size as the input.  This is dealt with by performing a suitable linear transformation on $\\mathbf{x}_l$, making the equation\n",
    "$$\n",
    "\\mathbf{x}_{l+1} = \\mathcal{F}_{l}(\\mathbf{x}_l) + W \\mathbf{x}_l,\n",
    "$$\n",
    "where $W$ is a matrix that has learnable weights.  The matrix $W$ is most often formulated as a convolution with a 1x1 kernel size.   \n",
    "\n",
    "The addition of the input is known as a *skip connection* because it looks like this:\n",
    "<img src=res_net.svg width=600/>\n",
    "The input is run through a normal conv layer (perhaps several) and then added to the output, where it can then be maxpooled or run through an activation or whatever.  \n",
    "\n",
    "Keras makes these sorts of networks pretty easy to program.  To start with, let's apply this network to the CIFAR-10 classification problem, but we'll do it for all 10 classes.  All the non-model definition code should look the same as our previous example.   "
   ]
  },
  {
   "cell_type": "code",
   "execution_count": 2,
   "metadata": {},
   "outputs": [
    {
     "name": "stdout",
     "output_type": "stream",
     "text": [
      "[name: \"/device:CPU:0\"\n",
      "device_type: \"CPU\"\n",
      "memory_limit: 268435456\n",
      "locality {\n",
      "}\n",
      "incarnation: 15032564760159276259\n",
      ", name: \"/device:GPU:0\"\n",
      "device_type: \"GPU\"\n",
      "memory_limit: 1288490188\n",
      "locality {\n",
      "  bus_id: 1\n",
      "  links {\n",
      "  }\n",
      "}\n",
      "incarnation: 1871509369643646625\n",
      "physical_device_desc: \"device: 0, name: GeForce GTX 980 Ti, pci bus id: 0000:01:00.0, compute capability: 5.2\"\n",
      "]\n"
     ]
    }
   ],
   "source": [
    "# Source: https://stackoverflow.com/questions/47286441/only-import-keras-takes-10gb-in-gpu\n",
    "# This added cell fixes an issue with keras loading onto the gpu's RAM preventing larger batch sizes\n",
    "# and more complicated models.\n",
    "\n",
    "import tensorflow as tf\n",
    "gpu_options = tf.GPUOptions(per_process_gpu_memory_fraction=0.2)\n",
    "sess = tf.Session(config=tf.ConfigProto(gpu_options=gpu_options))\n",
    "from keras import backend as K\n",
    "import tensorflow as tf\n",
    "config = tf.ConfigProto()\n",
    "config.gpu_options.per_process_gpu_memory_fraction = 0.2\n",
    "session = tf.Session(config=config)\n",
    "K.set_session(session)\n",
    "\n",
    "# GPU confirmation\n",
    "from tensorflow.python.client import device_lib\n",
    "print(str(device_lib.list_local_devices()))"
   ]
  },
  {
   "cell_type": "code",
   "execution_count": 3,
   "metadata": {},
   "outputs": [],
   "source": [
    "import keras\n",
    "import keras.datasets as kd\n",
    "\n",
    "(x_train, y_train), (x_test, y_test) = kd.cifar10.load_data()\n",
    "labels = ['airplane', 'car', 'bird', 'cat', 'deer', 'dog', 'frog', 'horse', 'ship', 'truck']\n",
    "\n",
    "x_train = x_train/255.\n",
    "x_test = x_test/255.\n",
    "\n",
    "# Convert class vectors to binary class matrices.\n",
    "N = len(labels)\n",
    "\n",
    "y_train = keras.utils.to_categorical(y_train, N)\n",
    "y_test = keras.utils.to_categorical(y_test, N)"
   ]
  },
  {
   "cell_type": "markdown",
   "metadata": {},
   "source": [
    "Now things get more interesting.  Obviously, ResNet as described above is more of a concept than a specific architecture: we'll need to make some more specific design choices.  One good way of doing this is to look at the literature and copy what others have done.  In particular, the [original ResNet Paper](https://arxiv.org/abs/1512.03385) provides an example of ResNet being applied to CIFAR-10 that yielded excellent accuracy (state of the art c. 2015).  Here, we'll emulate their network architecture, which looks like this:\n",
    "<img src=cifar_10_res_net.svg width=900/>\n",
    "More concretely, the layers of this network up to (and including) the location of the star in the figure above, look like this."
   ]
  },
  {
   "cell_type": "code",
   "execution_count": 4,
   "metadata": {},
   "outputs": [
    {
     "name": "stdout",
     "output_type": "stream",
     "text": [
      "WARNING:tensorflow:From C:\\Users\\nohbo\\Anaconda3\\lib\\site-packages\\tensorflow\\python\\framework\\op_def_library.py:263: colocate_with (from tensorflow.python.framework.ops) is deprecated and will be removed in a future version.\n",
      "Instructions for updating:\n",
      "Colocations handled automatically by placer.\n"
     ]
    }
   ],
   "source": [
    "import keras.layers as kl\n",
    "import keras.regularizers as kr\n",
    "\n",
    "# Note the alternative method for model specification: no model.add(.), instead we \n",
    "# perform sequential operations on layers, then we will make the resulting model later.\n",
    "\n",
    "# Specify the shape of the input image\n",
    "input_shape = x_train.shape[1:]\n",
    "inputs = kl.Input(shape=input_shape)\n",
    "\n",
    "# First convolution + BN + act\n",
    "conv = kl.Conv2D(16,(3,3),padding='same',kernel_regularizer=kr.l2(1e-4))(inputs)\n",
    "bn = kl.BatchNormalization()(conv)\n",
    "act1 = kl.Activation('relu')(bn)\n",
    "\n",
    "# Perform 3 convolution blocks\n",
    "for i in range(3):\n",
    "    conv = kl.Conv2D(16,(3,3),padding='same',kernel_regularizer=kr.l2(1e-4))(act1)\n",
    "    bn = kl.BatchNormalization()(conv)\n",
    "    act = kl.Activation('relu')(bn)\n",
    "    \n",
    "    conv = kl.Conv2D(16,(3,3),padding='same',kernel_regularizer=kr.l2(1e-4))(act)\n",
    "    bn = kl.BatchNormalization()(conv)\n",
    "\n",
    "    # Skip layer addition\n",
    "    skip = kl.add([act1,bn])\n",
    "    act1 = kl.Activation('relu')(skip)  \n",
    "\n",
    "# Downsampling with strided convolution\n",
    "conv = kl.Conv2D(32,(3,3),padding='same',strides=2,kernel_regularizer=kr.l2(1e-4))(act1)\n",
    "bn = kl.BatchNormalization()(conv)\n",
    "act = kl.Activation('relu')(bn)\n",
    "\n",
    "conv = kl.Conv2D(32,(3,3),padding='same',kernel_regularizer=kr.l2(1e-4))(act)\n",
    "bn = kl.BatchNormalization()(conv)\n",
    "\n",
    "# Downsampling with strided 1x1 convolution\n",
    "act1_downsampled = kl.Conv2D(32,(1,1),padding='same',strides=2,kernel_regularizer=kr.l2(1e-4))(act1)\n",
    "\n",
    "# Downsampling skip layer\n",
    "skip_downsampled = kl.add([act1_downsampled,bn])\n",
    "act1 = kl.Activation('relu')(skip_downsampled)\n",
    "\n",
    "for i in range(2):\n",
    "    conv = kl.Conv2D(32,(3,3),padding='same',kernel_regularizer=kr.l2(1e-4))(act1)\n",
    "    bn = kl.BatchNormalization()(conv)\n",
    "    act = kl.Activation('relu')(bn)\n",
    "    \n",
    "    conv = kl.Conv2D(32,(3,3),padding='same',kernel_regularizer=kr.l2(1e-4))(act)\n",
    "    bn = kl.BatchNormalization()(conv)\n",
    "\n",
    "    # Skip layer addition\n",
    "    skip = kl.add([act1,bn])\n",
    "    act1 = kl.Activation('relu')(skip)  \n",
    "\n",
    "# Downsampling with strided convolution\n",
    "conv = kl.Conv2D(64,(3,3),padding='same',strides=2,kernel_regularizer=kr.l2(1e-4))(act1)\n",
    "bn = kl.BatchNormalization()(conv)\n",
    "act = kl.Activation('relu')(bn)\n",
    "\n",
    "conv = kl.Conv2D(64,(3,3),padding='same',kernel_regularizer=kr.l2(1e-4))(act)\n",
    "bn = kl.BatchNormalization()(conv)\n",
    "\n",
    "# Downsampling with strided 1x1 convolution\n",
    "act1_downsampled = kl.Conv2D(64,(1,1),padding='same',strides=2,kernel_regularizer=kr.l2(1e-4))(act1)\n",
    "\n",
    "# Downsampling skip layer\n",
    "skip_downsampled = kl.add([act1_downsampled,bn])\n",
    "act1 = kl.Activation('relu')(skip_downsampled)\n",
    "\n",
    "for i in range(2):\n",
    "    conv = kl.Conv2D(64,(3,3),padding='same',kernel_regularizer=kr.l2(1e-4))(act1)\n",
    "    bn = kl.BatchNormalization()(conv)\n",
    "    act = kl.Activation('relu')(bn)\n",
    "    \n",
    "    conv = kl.Conv2D(64,(3,3),padding='same',kernel_regularizer=kr.l2(1e-4))(act)\n",
    "    bn = kl.BatchNormalization()(conv)\n",
    "\n",
    "    # Skip layer addition\n",
    "    skip = kl.add([act1,bn])\n",
    "    act1 = kl.Activation('relu')(skip)  \n",
    "\n",
    "# This final layer is denoted by a star in the above figure"
   ]
  },
  {
   "cell_type": "markdown",
   "metadata": {},
   "source": [
    "To ensure that we have the output shape that we expect at this stage, we can look at the shape of act1  "
   ]
  },
  {
   "cell_type": "code",
   "execution_count": 5,
   "metadata": {},
   "outputs": [
    {
     "data": {
      "text/plain": [
       "<tf.Tensor 'activation_19/Relu:0' shape=(?, 8, 8, 64) dtype=float32>"
      ]
     },
     "execution_count": 5,
     "metadata": {},
     "output_type": "execute_result"
    }
   ],
   "source": [
    "act1"
   ]
  },
  {
   "cell_type": "markdown",
   "metadata": {},
   "source": [
    "Which is an object of size 16x16x32, the correct size based on our chosen architecture (note the first question mark indicates an unknown number of input images: thus if we ran the model on a single photo, this would be a 1, if we ran it on the entire CIFAR training set at once it would be 50000).  As before, we can use this model for classification by doing global average pooling, then the softmax function."
   ]
  },
  {
   "cell_type": "code",
   "execution_count": 6,
   "metadata": {},
   "outputs": [],
   "source": [
    "gap = kl.GlobalAveragePooling2D()(act1)\n",
    "bn = kl.BatchNormalization()(gap)\n",
    "final_dense = kl.Dense(N)(bn)\n",
    "softmax = kl.Activation('softmax')(final_dense)"
   ]
  },
  {
   "cell_type": "code",
   "execution_count": 7,
   "metadata": {},
   "outputs": [
    {
     "name": "stdout",
     "output_type": "stream",
     "text": [
      "WARNING:tensorflow:From C:\\Users\\nohbo\\Anaconda3\\lib\\site-packages\\tensorflow\\python\\ops\\math_ops.py:3066: to_int32 (from tensorflow.python.ops.math_ops) is deprecated and will be removed in a future version.\n",
      "Instructions for updating:\n",
      "Use tf.cast instead.\n",
      "Train on 50000 samples, validate on 10000 samples\n",
      "Epoch 1/100\n",
      "50000/50000 [==============================] - 25s 503us/step - loss: 1.4226 - acc: 0.5110 - val_loss: 1.7623 - val_acc: 0.48654481 - acc: 0.5 - ETA: 1s - loss: 1.443\n",
      "Epoch 2/100\n",
      "50000/50000 [==============================] - 19s 378us/step - loss: 0.9861 - acc: 0.6808 - val_loss: 1.2322 - val_acc: 0.5924\n",
      "Epoch 3/100\n",
      "50000/50000 [==============================] - 20s 391us/step - loss: 0.8095 - acc: 0.7444 - val_loss: 1.2193 - val_acc: 0.61767 - ETA: 0s - loss: 0.8102 - acc: 0 - ETA: 0s - loss: 0.8092 - acc: 0.744\n",
      "Epoch 4/100\n",
      "50000/50000 [==============================] - 20s 393us/step - loss: 0.7071 - acc: 0.7849 - val_loss: 1.0573 - val_acc: 0.6727 - ETA: 4s - loss: 0.7066 - ETA:\n",
      "Epoch 5/100\n",
      "50000/50000 [==============================] - 20s 392us/step - loss: 0.6288 - acc: 0.8109 - val_loss: 0.8815 - val_acc: 0.7278 0.6278 - acc\n",
      "Epoch 6/100\n",
      "50000/50000 [==============================] - 20s 390us/step - loss: 0.5673 - acc: 0.8330 - val_loss: 1.0055 - val_acc: 0.7134 - ETA: 0s - loss: 0.5652 - ac\n",
      "Epoch 7/100\n",
      "50000/50000 [==============================] - 20s 391us/step - loss: 0.5169 - acc: 0.8543 - val_loss: 1.2060 - val_acc: 0.6462c: 0.854 - ETA: 0s - loss: 0.5158 - acc: 0.85\n",
      "Epoch 8/100\n",
      "50000/50000 [==============================] - 20s 392us/step - loss: 0.4694 - acc: 0.8711 - val_loss: 1.2221 - val_acc: 0.6838\n",
      "Epoch 9/100\n",
      "50000/50000 [==============================] - 20s 395us/step - loss: 0.4355 - acc: 0.8835 - val_loss: 1.2241 - val_acc: 0.6769\n",
      "Epoch 10/100\n",
      "50000/50000 [==============================] - 20s 396us/step - loss: 0.3947 - acc: 0.9007 - val_loss: 1.1958 - val_acc: 0.7019\n",
      "Epoch 11/100\n",
      "50000/50000 [==============================] - 20s 398us/step - loss: 0.3659 - acc: 0.9112 - val_loss: 1.1945 - val_acc: 0.7091302 - a - ETA: 14s - loss: 0.3332 - acc: 0.92 -  - ETA: 9s - loss: 0.3497 - acc: 0.9 - ETA: 8s - loss: 0. - ETA: 7s - loss: 0.3518 -\n",
      "Epoch 12/100\n",
      "50000/50000 [==============================] - 20s 396us/step - loss: 0.3429 - acc: 0.9214 - val_loss: 1.0588 - val_acc: 0.7483\n",
      "Epoch 13/100\n",
      "50000/50000 [==============================] - 20s 403us/step - loss: 0.3246 - acc: 0.9274 - val_loss: 1.3435 - val_acc: 0.7013\n",
      "Epoch 14/100\n",
      "50000/50000 [==============================] - 20s 395us/step - loss: 0.3055 - acc: 0.9350 - val_loss: 1.2623 - val_acc: 0.7267s - loss: 0.3007 - a - ETA: 1s - los\n",
      "Epoch 15/100\n",
      "50000/50000 [==============================] - 20s 396us/step - loss: 0.2902 - acc: 0.9416 - val_loss: 1.0577 - val_acc: 0.7584.27 - ETA: 0s - loss: 0.2900 - acc: 0.94\n",
      "Epoch 16/100\n",
      "50000/50000 [==============================] - 20s 398us/step - loss: 0.2808 - acc: 0.9454 - val_loss: 1.8190 - val_acc: 0.6701\n",
      "Epoch 17/100\n",
      "50000/50000 [==============================] - 20s 398us/step - loss: 0.2758 - acc: 0.9477 - val_loss: 1.2091 - val_acc: 0.74620s - loss: 0.2633 -  - ETA: 5s - loss: 0.2689 - acc: 0.950 - ETA: 5s - loss:\n",
      "Epoch 18/100\n",
      "50000/50000 [==============================] - 20s 398us/step - loss: 0.2695 - acc: 0.9523 - val_loss: 1.6166 - val_acc: 0.7102oss: 0.26 - ETA: 2s -\n",
      "Epoch 19/100\n",
      "50000/50000 [==============================] - 20s 399us/step - loss: 0.2627 - acc: 0.9557 - val_loss: 1.1325 - val_acc: 0.7715s - loss: 0.2515 - acc: 0. - ETA: 9s - ETA: 2s - loss: 0.2603 - acc: 0.956 - ETA: 2s\n",
      "Epoch 20/100\n",
      "50000/50000 [==============================] - 20s 397us/step - loss: 0.2590 - acc: 0.9576 - val_loss: 1.2158 - val_acc: 0.74682520 - - ETA: 3s - loss: 0.2544 - acc: 0. -  - ETA: 0s - loss: 0.2591 - acc: 0.957\n",
      "Epoch 21/100\n",
      "50000/50000 [==============================] - 20s 398us/step - loss: 0.2536 - acc: 0.9596 - val_loss: 1.3002 - val_acc: 0.7417 - loss: 0.2407  - ETA: \n",
      "Epoch 22/100\n",
      "50000/50000 [==============================] - 20s 397us/step - loss: 0.2520 - acc: 0.9621 - val_loss: 1.2699 - val_acc: 0.7570 18s - loss: 0.2237 - acc - ETA: 15s - loss: 0.2250 - acc:  - ETA: 15 - ETA: - ETA: 7s - loss - ETA: 5s - lo\n",
      "Epoch 23/100\n",
      "50000/50000 [==============================] - 20s 397us/step - loss: 0.2533 - acc: 0.9613 - val_loss: 1.7924 - val_acc: 0.69612524 - acc - ETA: 0s - loss: 0.2525 - acc\n",
      "Epoch 24/100\n",
      "50000/50000 [==============================] - 20s 398us/step - loss: 0.2512 - acc: 0.9630 - val_loss: 1.9424 - val_acc: 0.6913\n",
      "Epoch 25/100\n",
      "50000/50000 [==============================] - 20s 396us/step - loss: 0.2469 - acc: 0.9651 - val_loss: 1.4617 - val_acc: 0.7358oss: 0.2414 - ac - ETA: 4s - ETA: 2s - loss: 0.2440 - acc: 0.96 - ETA: 2s - loss: 0.2442  - ETA: 0s - loss: 0.2458 - a\n",
      "Epoch 26/100\n",
      "50000/50000 [==============================] - 20s 396us/step - loss: 0.2468 - acc: 0.9658 - val_loss: 1.5311 - val_acc: 0.7257- loss: 0.2463 - ac\n",
      "Epoch 27/100\n",
      "50000/50000 [==============================] - 20s 399us/step - loss: 0.2467 - acc: 0.9663 - val_loss: 1.4090 - val_acc: 0.7523\n",
      "Epoch 28/100\n",
      "50000/50000 [==============================] - 20s 396us/step - loss: 0.2411 - acc: 0.9684 - val_loss: 1.6920 - val_acc: 0.7286\n",
      "Epoch 29/100\n",
      "50000/50000 [==============================] - 20s 396us/step - loss: 0.2443 - acc: 0.9680 - val_loss: 1.6837 - val_acc: 0.7156A: 6s - loss: 0 - ETA: 5s - loss: 0.2396 - acc: 0. - ETA: 4s - loss: 0.2 - ETA\n",
      "Epoch 30/100\n",
      "50000/50000 [==============================] - 20s 396us/step - loss: 0.2415 - acc: 0.9702 - val_loss: 1.7555 - val_acc: 0.7247ss: 0.2413 - acc: 0.\n",
      "Epoch 31/100\n",
      "50000/50000 [==============================] - 20s 396us/step - loss: 0.2419 - acc: 0.9702 - val_loss: 1.5284 - val_acc: 0.7498\n",
      "Epoch 32/100\n",
      "50000/50000 [==============================] - 20s 396us/step - loss: 0.2441 - acc: 0.9692 - val_loss: 1.6217 - val_acc: 0.72603s - loss: 0.2304 - acc - ETA: 12s - loss: 0.2301 - acc\n",
      "Epoch 33/100\n",
      "50000/50000 [==============================] - 20s 396us/step - loss: 0.2389 - acc: 0.9726 - val_loss: 1.4972 - val_acc: 0.7402\n",
      "Epoch 34/100\n",
      "50000/50000 [==============================] - 20s 393us/step - loss: 0.2377 - acc: 0.9720 - val_loss: 1.8981 - val_acc: 0.7085- acc: \n",
      "Epoch 35/100\n",
      "50000/50000 [==============================] - 20s 393us/step - loss: 0.2367 - acc: 0.9734 - val_loss: 1.3099 - val_acc: 0.77218s - loss: - ETA: 6s - loss: 0.2 - ETA: 4s - loss: 0.2362 - ac\n",
      "Epoch 36/100\n",
      "50000/50000 [==============================] - 20s 393us/step - loss: 0.2389 - acc: 0.9726 - val_loss: 1.8563 - val_acc: 0.7137 - ETA: 7s - l - ETA: 5s - loss - ETA: 3s - loss: 0.2359 - acc: 0. - ETA: 2s - loss: 0. - ETA: 1s - loss: 0.2381 \n",
      "Epoch 37/100\n",
      "50000/50000 [==============================] - 20s 393us/step - loss: 0.2383 - acc: 0.9729 - val_loss: 1.2189 - val_acc: 0.7785 ETA: 0s - loss: 0.2378 - acc:\n",
      "Epoch 38/100\n",
      "50000/50000 [==============================] - 20s 394us/step - loss: 0.2417 - acc: 0.9725 - val_loss: 1.5101 - val_acc: 0.7563\n",
      "Epoch 39/100\n",
      "50000/50000 [==============================] - 20s 394us/step - loss: 0.2368 - acc: 0.9735 - val_loss: 1.4424 - val_acc: 0.7532: 0.2366 - acc: 0. - ETA: 0s - loss: 0.2368 - acc: 0\n",
      "Epoch 40/100\n",
      "50000/50000 [==============================] - 20s 394us/step - loss: 0.2370 - acc: 0.9742 - val_loss: 1.7007 - val_acc: 0.7361- ETA: 11s - lo - ETA: 9s - - ETA: 7s - loss: 0.23 - ETA: 5s - loss\n",
      "Epoch 41/100\n",
      "50000/50000 [==============================] - 20s 394us/step - loss: 0.2381 - acc: 0.9744 - val_loss: 2.0318 - val_acc: 0.6905\n",
      "Epoch 42/100\n",
      "50000/50000 [==============================] - 20s 394us/step - loss: 0.2346 - acc: 0.9747 - val_loss: 2.0503 - val_acc: 0.704898 - acc: - ETA: 4s - loss: 0.2 - ETA: 2s -\n",
      "Epoch 43/100\n",
      "50000/50000 [==============================] - 20s 393us/step - loss: 0.2325 - acc: 0.9757 - val_loss: 1.3536 - val_acc: 0.77018s - loss: 0.2268 - acc: - ETA: 7s - loss: 0.226 - ETA: 6\n",
      "Epoch 44/100\n",
      "50000/50000 [==============================] - 20s 394us/step - loss: 0.2326 - acc: 0.9762 - val_loss: 1.4377 - val_acc: 0.7710loss: 0.2324 - acc: \n",
      "Epoch 45/100\n"
     ]
    },
    {
     "name": "stdout",
     "output_type": "stream",
     "text": [
      "50000/50000 [==============================] - 20s 393us/step - loss: 0.2345 - acc: 0.9764 - val_loss: 1.5637 - val_acc: 0.7453\n",
      "Epoch 46/100\n",
      "50000/50000 [==============================] - 20s 393us/step - loss: 0.2355 - acc: 0.9752 - val_loss: 1.4805 - val_acc: 0.7609\n",
      "Epoch 47/100\n",
      "50000/50000 [==============================] - 20s 393us/step - loss: 0.2352 - acc: 0.9753 - val_loss: 1.7968 - val_acc: 0.7310: 0.2299 - acc: 0 - ETA: 7s - loss: 0.2306 - a - ETA: 6s - loss: 0.2308 - acc: 0. - ETA:  - ETA: 3s - loss: 0.2322 - a - ETA: 2s - los\n",
      "Epoch 48/100\n",
      "50000/50000 [==============================] - 20s 394us/step - loss: 0.2309 - acc: 0.9776 - val_loss: 1.8422 - val_acc: 0.7182\n",
      "Epoch 49/100\n",
      "50000/50000 [==============================] - 20s 393us/step - loss: 0.2323 - acc: 0.9767 - val_loss: 1.7615 - val_acc: 0.7310oss: 0 - ETA: 2s - l\n",
      "Epoch 50/100\n",
      "50000/50000 [==============================] - 20s 393us/step - loss: 0.2311 - acc: 0.9771 - val_loss: 1.9659 - val_acc: 0.7064\n",
      "Epoch 51/100\n",
      "50000/50000 [==============================] - 20s 393us/step - loss: 0.2331 - acc: 0.9763 - val_loss: 1.5167 - val_acc: 0.7575 2s - \n",
      "Epoch 52/100\n",
      "50000/50000 [==============================] - 20s 394us/step - loss: 0.2303 - acc: 0.9774 - val_loss: 1.5791 - val_acc: 0.7615ETA: 0s - loss: 0.2296 - acc: 0.97 - ETA: 0s - loss: 0.2296 - acc\n",
      "Epoch 53/100\n",
      "50000/50000 [==============================] - 20s 393us/step - loss: 0.2319 - acc: 0.9770 - val_loss: 1.3582 - val_acc: 0.7725977 - ET - ETA: 1s - loss: 0.2313 - acc: - ETA: 0s - loss: 0.2313 - acc: - ETA: 0s - loss: 0.2323 - acc: 0.9\n",
      "Epoch 54/100\n",
      "50000/50000 [==============================] - 20s 393us/step - loss: 0.2296 - acc: 0.9780 - val_loss: 1.5392 - val_acc: 0.7494- ETA - ETA: 8s - loss: - ETA: 2s - \n",
      "Epoch 55/100\n",
      "50000/50000 [==============================] - 20s 393us/step - loss: 0.2287 - acc: 0.9781 - val_loss: 1.5876 - val_acc: 0.7474\n",
      "Epoch 56/100\n",
      "50000/50000 [==============================] - 20s 393us/step - loss: 0.2287 - acc: 0.9786 - val_loss: 1.5457 - val_acc: 0.7546s - loss: 0.2265 - acc - ETA: 5s - loss: 0.2261 - a - ETA: 4s - los - ETA: 2s - loss: 0.2265 - acc:  - ETA: 1s - loss: 0\n",
      "Epoch 57/100\n",
      "50000/50000 [==============================] - 20s 393us/step - loss: 0.2288 - acc: 0.9784 - val_loss: 1.4533 - val_acc: 0.7639s: 0.2269 - a - ETA: 3s - loss: 0.2273 - ac - ETA: 2s - loss: 0.2279 - acc - ETA: 1s - loss: 0.2\n",
      "Epoch 58/100\n",
      "50000/50000 [==============================] - 20s 394us/step - loss: 0.2284 - acc: 0.9783 - val_loss: 2.0198 - val_acc: 0.7123- loss - ETA: 0s - loss: 0.2284 - acc: 0.978\n",
      "Epoch 59/100\n",
      "50000/50000 [==============================] - 20s 393us/step - loss: 0.2270 - acc: 0.9788 - val_loss: 1.4558 - val_acc: 0.7642.2265 - acc: 0.97 - ETA: 0s - loss: 0.2268 - acc\n",
      "Epoch 60/100\n",
      "50000/50000 [==============================] - 20s 394us/step - loss: 0.2285 - acc: 0.9782 - val_loss: 1.7599 - val_acc: 0.7564\n",
      "Epoch 61/100\n",
      "50000/50000 [==============================] - 20s 394us/step - loss: 0.2268 - acc: 0.9785 - val_loss: 1.7766 - val_acc: 0.7195 9s - loss: 0.2233 - acc: 0. - ETA: 9s - loss: 0.2234 - ETA: 7s - lo - ETA: 1s - loss: \n",
      "Epoch 62/100\n",
      "50000/50000 [==============================] - 20s 393us/step - loss: 0.2277 - acc: 0.9784 - val_loss: 1.9169 - val_acc: 0.7115 - loss: 0.2273 -\n",
      "Epoch 63/100\n",
      "50000/50000 [==============================] - 20s 394us/step - loss: 0.2246 - acc: 0.9795 - val_loss: 1.8073 - val_acc: 0.7378\n",
      "Epoch 64/100\n",
      "50000/50000 [==============================] - 20s 393us/step - loss: 0.2259 - acc: 0.9796 - val_loss: 1.3775 - val_acc: 0.7678\n",
      "Epoch 65/100\n",
      "50000/50000 [==============================] - 20s 393us/step - loss: 0.2272 - acc: 0.9789 - val_loss: 1.5574 - val_acc: 0.7501\n",
      "Epoch 66/100\n",
      "50000/50000 [==============================] - 20s 393us/step - loss: 0.2243 - acc: 0.9798 - val_loss: 1.7730 - val_acc: 0.7312\n",
      "Epoch 67/100\n",
      "50000/50000 [==============================] - 20s 393us/step - loss: 0.2242 - acc: 0.9798 - val_loss: 1.4958 - val_acc: 0.7657  - ETA: 7s - los - ETA: 5s - loss: 0.2208 - ETA: 4s - loss: 0.22 - ETA: 2s - loss: 0.2 - ETA: 0s - loss: 0.2236 - a\n",
      "Epoch 68/100\n",
      "50000/50000 [==============================] - 20s 393us/step - loss: 0.2241 - acc: 0.9795 - val_loss: 1.4816 - val_acc: 0.7699\n",
      "Epoch 69/100\n",
      "50000/50000 [==============================] - 20s 393us/step - loss: 0.2251 - acc: 0.9795 - val_loss: 1.6300 - val_acc: 0.7520  - ETA: 4s - loss: 0.2224 - - ETA: 0s - loss: 0.2250 - acc: 0.979\n",
      "Epoch 70/100\n",
      "50000/50000 [==============================] - 20s 394us/step - loss: 0.2258 - acc: 0.9789 - val_loss: 1.5303 - val_acc: 0.7609oss: 0.2230 - a - ETA: 1s - loss: 0.2240 - acc:  - ETA: 1s - loss: 0.2244\n",
      "Epoch 71/100\n",
      "50000/50000 [==============================] - 20s 393us/step - loss: 0.2225 - acc: 0.9798 - val_loss: 2.1115 - val_acc: 0.6965\n",
      "Epoch 72/100\n",
      "50000/50000 [==============================] - 20s 393us/step - loss: 0.2246 - acc: 0.9794 - val_loss: 1.6408 - val_acc: 0.7449ETA: 1s - loss:\n",
      "Epoch 73/100\n",
      "50000/50000 [==============================] - 20s 394us/step - loss: 0.2231 - acc: 0.9798 - val_loss: 1.9259 - val_acc: 0.7191loss: 0.2212 - acc: - ETA: 6s - loss - ETA: - ETA: 1s - loss: 0.2229\n",
      "Epoch 74/100\n",
      "50000/50000 [==============================] - 20s 393us/step - loss: 0.2220 - acc: 0.9800 - val_loss: 1.8119 - val_acc: 0.7197\n",
      "Epoch 75/100\n",
      "50000/50000 [==============================] - 20s 394us/step - loss: 0.2195 - acc: 0.9810 - val_loss: 1.4832 - val_acc: 0.77242195 \n",
      "Epoch 76/100\n",
      "50000/50000 [==============================] - 20s 394us/step - loss: 0.2220 - acc: 0.9799 - val_loss: 1.6380 - val_acc: 0.7635 2s -\n",
      "Epoch 77/100\n",
      "50000/50000 [==============================] - 20s 394us/step - loss: 0.2229 - acc: 0.9804 - val_loss: 1.8470 - val_acc: 0.7383 - loss:  - ETA: 9s - - ETA: 3s - loss: 0.22 - ETA: 1s - loss:\n",
      "Epoch 78/100\n",
      "50000/50000 [==============================] - 20s 394us/step - loss: 0.2186 - acc: 0.9808 - val_loss: 1.8769 - val_acc: 0.7392 - ETA: 1s - loss: 0.21\n",
      "Epoch 79/100\n",
      "50000/50000 [==============================] - 20s 394us/step - loss: 0.2209 - acc: 0.9803 - val_loss: 1.3946 - val_acc: 0.7722 loss: 0.2156 - acc: 0\n",
      "Epoch 80/100\n",
      "50000/50000 [==============================] - 20s 393us/step - loss: 0.2221 - acc: 0.9805 - val_loss: 1.4340 - val_acc: 0.7760 - ETA: 6s - l\n",
      "Epoch 81/100\n",
      "50000/50000 [==============================] - 20s 393us/step - loss: 0.2205 - acc: 0.9809 - val_loss: 1.4613 - val_acc: 0.7711\n",
      "Epoch 82/100\n",
      "50000/50000 [==============================] - 20s 393us/step - loss: 0.2195 - acc: 0.9806 - val_loss: 1.4694 - val_acc: 0.7738- loss: 0.2157 - a - ETA: 5s - loss: 0.2164 - - ETA: 4s - loss: 0.2167 - acc: 0.982 - ETA - ETA: 1s - loss: 0.2192 \n",
      "Epoch 83/100\n",
      "50000/50000 [==============================] - 20s 394us/step - loss: 0.2205 - acc: 0.9802 - val_loss: 1.4618 - val_acc: 0.7726\n",
      "Epoch 84/100\n",
      "50000/50000 [==============================] - 20s 393us/step - loss: 0.2187 - acc: 0.9801 - val_loss: 1.4711 - val_acc: 0.7774 3s - loss: 0.2165 - acc: 0.98 - ETA: 2s - loss: 0. - ETA: 1s - loss: 0.2178 - acc: 0.98 - ETA: 1s - loss: 0.2181 - acc: 0.9 - ETA: 0s - loss: 0.2182 - acc\n",
      "Epoch 85/100\n",
      "50000/50000 [==============================] - 20s 393us/step - loss: 0.2181 - acc: 0.9814 - val_loss: 1.4382 - val_acc: 0.7646A: 1s - loss: 0.217 - ETA: 0s - loss: 0.2179 - acc: 0\n",
      "Epoch 86/100\n",
      "50000/50000 [==============================] - 20s 393us/step - loss: 0.2194 - acc: 0.9805 - val_loss: 1.9771 - val_acc: 0.7272\n",
      "Epoch 87/100\n",
      "50000/50000 [==============================] - 20s 393us/step - loss: 0.2161 - acc: 0.9819 - val_loss: 1.2323 - val_acc: 0.7966 - loss: 0.2107 - ETA: 7s - loss: 0.2134 - acc:  - ETA: 7s - loss: 0.2135 - acc: 0.98 - ETA: 6s  - ETA: 4s - loss: 0 - ETA: 2s - \n",
      "Epoch 88/100\n",
      "50000/50000 [==============================] - 20s 393us/step - loss: 0.2162 - acc: 0.9806 - val_loss: 1.5198 - val_acc: 0.7675- ETA: 13s - loss: 0.2104 - a - ETA: 12s - loss - ETA - ETA: 9s - loss: 0.2100 - acc: - ETA: 9s - loss - ETA: 7s - loss: 0 - ETA: 1s - loss: 0.\n",
      "Epoch 89/100\n"
     ]
    },
    {
     "name": "stdout",
     "output_type": "stream",
     "text": [
      "50000/50000 [==============================] - 20s 393us/step - loss: 0.2183 - acc: 0.9808 - val_loss: 1.4864 - val_acc: 0.7754 0.2130 - a  - ETA: 7s - loss: 0.2159 - a - ETA: 6s \n",
      "Epoch 90/100\n",
      "50000/50000 [==============================] - 20s 393us/step - loss: 0.2158 - acc: 0.9813 - val_loss: 1.4413 - val_acc: 0.7719 - loss:\n",
      "Epoch 91/100\n",
      "50000/50000 [==============================] - 20s 394us/step - loss: 0.2148 - acc: 0.9814 - val_loss: 1.9253 - val_acc: 0.7185loss: 0.2146 - acc: \n",
      "Epoch 92/100\n",
      "50000/50000 [==============================] - 20s 393us/step - loss: 0.2170 - acc: 0.9807 - val_loss: 1.7302 - val_acc: 0.7349\n",
      "Epoch 93/100\n",
      "50000/50000 [==============================] - 20s 393us/step - loss: 0.2176 - acc: 0.9809 - val_loss: 1.6167 - val_acc: 0.7719\n",
      "Epoch 94/100\n",
      "50000/50000 [==============================] - 20s 393us/step - loss: 0.2162 - acc: 0.9816 - val_loss: 1.8628 - val_acc: 0.7367 - acc: 0 - ETA: 8 - ETA: 5s - loss: \n",
      "Epoch 95/100\n",
      "50000/50000 [==============================] - 20s 393us/step - loss: 0.2179 - acc: 0.9807 - val_loss: 1.6633 - val_acc: 0.7376: 0.2182 - acc\n",
      "Epoch 96/100\n",
      "50000/50000 [==============================] - 20s 393us/step - loss: 0.2148 - acc: 0.9812 - val_loss: 1.6330 - val_acc: 0.7442- ETA: 0s - loss: 0.2148 - acc: \n",
      "Epoch 97/100\n",
      "50000/50000 [==============================] - 20s 394us/step - loss: 0.2130 - acc: 0.9823 - val_loss: 1.7412 - val_acc: 0.7486\n",
      "Epoch 98/100\n",
      "50000/50000 [==============================] - 20s 394us/step - loss: 0.2149 - acc: 0.9815 - val_loss: 2.2803 - val_acc: 0.6900\n",
      "Epoch 99/100\n",
      "50000/50000 [==============================] - 20s 393us/step - loss: 0.2167 - acc: 0.9808 - val_loss: 1.6226 - val_acc: 0.7527 - loss: 0.2168 - \n",
      "Epoch 100/100\n",
      "50000/50000 [==============================] - 20s 394us/step - loss: 0.2157 - acc: 0.9817 - val_loss: 1.7533 - val_acc: 0.7399 ETA: 0s - loss: 0.2153 - acc: 0.981 - ETA: 0s - loss: 0.2155 - acc: \n"
     ]
    },
    {
     "data": {
      "text/plain": [
       "<keras.callbacks.History at 0x23f1d47e908>"
      ]
     },
     "execution_count": 7,
     "metadata": {},
     "output_type": "execute_result"
    }
   ],
   "source": [
    "import keras.models as km\n",
    "model = km.Model(inputs=inputs,outputs=softmax)\n",
    "\n",
    "# initiate adam optimizer\n",
    "opt = keras.optimizers.rmsprop(lr=0.001,decay=1e-6)\n",
    "\n",
    "model.compile(loss='categorical_crossentropy',\n",
    "              optimizer=opt,\n",
    "              metrics=['accuracy'])\n",
    "\n",
    "model.fit(x_train, y_train,\n",
    "          batch_size=128,\n",
    "          epochs=100,\n",
    "          validation_data\n",
    "          =(x_test, y_test),\n",
    "          shuffle=True)"
   ]
  },
  {
   "cell_type": "markdown",
   "metadata": {},
   "source": [
    "While the code as is works, it is *not* the complete architecture given in the figure above.  **Implement the remainder of the network, and train the model for 100 epochs.** The complete architecture has quite a few parameters, so you'll definitely want to use a GPU, i.e. run it on the cluster (reference the job script included in this repo).\n",
    "\n",
    "There are also a few extra tidbits to make this work better.  First, we'll want to checkpoint the model, which is to say that we'll want to save the weights anytime the model improves during the training process.  We can do this easily in Keras with a checkpoint function:"
   ]
  },
  {
   "cell_type": "code",
   "execution_count": 8,
   "metadata": {},
   "outputs": [],
   "source": [
    "import keras.callbacks as kc\n",
    "filepath = './checkpoints'\n",
    "\n",
    "# Prepare callbacks for model saving and for learning rate adjustment.\n",
    "checkpoint = kc.ModelCheckpoint(filepath=filepath,\n",
    "                             monitor='val_acc',\n",
    "                             verbose=1,\n",
    "                             save_best_only=True)"
   ]
  },
  {
   "cell_type": "code",
   "execution_count": 9,
   "metadata": {},
   "outputs": [
    {
     "name": "stdout",
     "output_type": "stream",
     "text": [
      "Saved model to disk\n"
     ]
    }
   ],
   "source": [
    "model_json = model.to_json()\n",
    "with open(\"model.json\", \"w\") as json_file:\n",
    "    json_file.write(model_json)\n",
    "# serialize weights to HDF5\n",
    "model.save_weights(\"model.h5\")\n",
    "print(\"Saved model to disk\")"
   ]
  },
  {
   "cell_type": "code",
   "execution_count": 11,
   "metadata": {},
   "outputs": [
    {
     "name": "stdout",
     "output_type": "stream",
     "text": [
      "Loaded model from disk\n"
     ]
    }
   ],
   "source": [
    "from keras.models import model_from_json\n",
    "\n",
    "# load json and create model\n",
    "json_file = open('model.json', 'r')\n",
    "loaded_model_json = json_file.read()\n",
    "json_file.close()\n",
    "loaded_model = model_from_json(loaded_model_json)\n",
    "# load weights into new model\n",
    "loaded_model.load_weights(\"model.h5\")\n",
    "print(\"Loaded model from disk\")"
   ]
  },
  {
   "cell_type": "markdown",
   "metadata": {},
   "source": [
    "Note that these weights can then be loaded into a model on your local machine for more convenient post-processing and visualization of results.  We'll also want to reduce the learning rate as the model reaches an optimal solution.  We can do this with a *learning rate schedule*.\n"
   ]
  },
  {
   "cell_type": "code",
   "execution_count": null,
   "metadata": {},
   "outputs": [],
   "source": [
    "def lr_schedule(epoch):\n",
    "    lr = 1e-3\n",
    "    if epoch > 60:\n",
    "        lr *= 1e-3\n",
    "    print('Learning rate: ', lr)\n",
    "    return lr\n",
    "lr_scheduler = kc.LearningRateScheduler(lr_schedule)"
   ]
  },
  {
   "cell_type": "markdown",
   "metadata": {},
   "source": [
    "We can include these two functions as *callbacks* to the optimizer:"
   ]
  },
  {
   "cell_type": "code",
   "execution_count": null,
   "metadata": {},
   "outputs": [],
   "source": [
    "model.fit(x_train, y_train,\n",
    "          batch_size=128,\n",
    "          epochs=100,\n",
    "          validation_data=(x_test, y_test),\n",
    "          shuffle=True,\n",
    "          callbacks=[checkpoint,lr_scheduler])"
   ]
  },
  {
   "cell_type": "markdown",
   "metadata": {},
   "source": [
    "Once your model is fitted, **adapt your class activation mapping routine to run on this more advanced architecture, and compute a few examples?  How do these activation maps differ from those computed for the smaller network?**"
   ]
  },
  {
   "cell_type": "code",
   "execution_count": null,
   "metadata": {},
   "outputs": [],
   "source": []
  }
 ],
 "metadata": {
  "kernelspec": {
   "display_name": "Python 3",
   "language": "python",
   "name": "python3"
  },
  "language_info": {
   "codemirror_mode": {
    "name": "ipython",
    "version": 3
   },
   "file_extension": ".py",
   "mimetype": "text/x-python",
   "name": "python",
   "nbconvert_exporter": "python",
   "pygments_lexer": "ipython3",
   "version": "3.7.0"
  }
 },
 "nbformat": 4,
 "nbformat_minor": 2
}
